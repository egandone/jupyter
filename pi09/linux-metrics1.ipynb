{
 "cells": [
  {
   "cell_type": "markdown",
   "metadata": {},
   "source": [
    "Only need to do this to import the linux-metrics and watermark modules\n",
    "Note that this is the best way to install a module from inside a notebook \n",
    "\n",
    "```python\n",
    "import sys\n",
    "!{sys.executable} -m pip install linux-metrics\n",
    "!(sys.executable) -m pip install watermark\n",
    "```\n",
    "\n",
    "See https://jakevdp.github.io/blog/2017/12/05/installing-python-packages-from-jupyter/"
   ]
  },
  {
   "cell_type": "code",
   "execution_count": 1,
   "metadata": {},
   "outputs": [
    {
     "output_type": "stream",
     "name": "stdout",
     "text": "2020-02-23T19:49:40-05:00\n\nCPython 3.8.1\nIPython 7.12.0\n\ncompiler   : GCC 6.3.0 20170516\nsystem     : Linux\nrelease    : 4.19.66-v7+\nmachine    : armv7l\nprocessor  : \nCPU cores  : 4\ninterpreter: 32bit\n"
    }
   ],
   "source": [
    "%load_ext watermark\n",
    "%watermark"
   ]
  },
  {
   "cell_type": "code",
   "execution_count": 2,
   "metadata": {},
   "outputs": [],
   "source": [
    "import linux_metrics as lm"
   ]
  },
  {
   "cell_type": "code",
   "execution_count": 3,
   "metadata": {},
   "outputs": [
    {
     "output_type": "stream",
     "name": "stdout",
     "text": "procs running: 4\ncpu utilization: 26.88%\ndisk busy: 0.0%\ndisk reads: 28419\ndisk writes: 11756\nmem used: 438829056\nmem total: 917016576\nnet bits received: 780366832\nnet bits sent: 683169968\n"
    }
   ],
   "source": [
    "# cpu\n",
    "print('procs running: %d' % lm.cpu_stat.procs_running())\n",
    "cpu_pcts = lm.cpu_stat.cpu_percents(sample_duration=1)\n",
    "print('cpu utilization: %.2f%%' % (100 - cpu_pcts['idle']))\n",
    "\n",
    "# disk\n",
    "print('disk busy: %s%%' % lm.disk_stat.disk_busy('mmcblk0', sample_duration=1))\n",
    "r, w = lm.disk_stat.disk_reads_writes('mmcblk0')\n",
    "print('disk reads: %s' % r)\n",
    "print('disk writes: %s' % w)\n",
    "\n",
    "# memory\n",
    "used, total, _, _, _, _ = lm.mem_stat.mem_stats()\n",
    "print('mem used: %s' % used)\n",
    "print('mem total: %s' % total)\n",
    "\n",
    "# network\n",
    "rx_bits, tx_bits = lm.net_stat.rx_tx_bits('eth0')\n",
    "print('net bits received: %s' % rx_bits)\n",
    "print('net bits sent: %s' % tx_bits)\n",
    "\n",
    ""
   ]
  },
  {
   "cell_type": "code",
   "execution_count": null,
   "metadata": {},
   "outputs": [],
   "source": []
  }
 ],
 "metadata": {
  "kernelspec": {
   "display_name": "Python 3",
   "language": "python",
   "name": "python3"
  },
  "language_info": {
   "codemirror_mode": {
    "name": "ipython",
    "version": 3
   },
   "file_extension": ".py",
   "mimetype": "text/x-python",
   "name": "python",
   "nbconvert_exporter": "python",
   "pygments_lexer": "ipython3",
   "version": "3.8.1-final"
  }
 },
 "nbformat": 4,
 "nbformat_minor": 2
}