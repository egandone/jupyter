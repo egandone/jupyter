{
 "cells": [
  {
   "cell_type": "code",
   "execution_count": 1,
   "metadata": {},
   "outputs": [
    {
     "name": "stdout",
     "output_type": "stream",
     "text": [
      "2020-05-18T10:33:26-04:00\n",
      "\n",
      "CPython 3.7.3\n",
      "IPython 7.14.0\n",
      "\n",
      "compiler   : GCC 8.3.0\n",
      "system     : Linux\n",
      "release    : 4.19.97-v7+\n",
      "machine    : armv7l\n",
      "processor  : \n",
      "CPU cores  : 4\n",
      "interpreter: 32bit\n"
     ]
    }
   ],
   "source": [
    "%load_ext watermark\n",
    "%watermark"
   ]
  },
  {
   "cell_type": "code",
   "execution_count": 2,
   "metadata": {},
   "outputs": [
    {
     "name": "stdout",
     "output_type": "stream",
     "text": [
      "node      = pi09\n",
      "system    = Linux\n",
      "processor = \n",
      "release   = 4.19.97-v7+\n",
      "version   = #1294 SMP Thu Jan 30 13:15:58 GMT 2020\n"
     ]
    }
   ],
   "source": [
    "import platform\n",
    "print(f\"\"\"node      = {platform.uname().node}\n",
    "system    = {platform.uname().system}\n",
    "processor = {platform.uname().processor}\n",
    "release   = {platform.uname().release}\n",
    "version   = {platform.uname().version}\"\"\")"
   ]
  },
  {
   "cell_type": "code",
   "execution_count": 3,
   "metadata": {},
   "outputs": [
    {
     "name": "stdout",
     "output_type": "stream",
     "text": [
      "sys.version:\n",
      "3.7.3 (default, Dec 20 2019, 18:57:59) \n",
      "[GCC 8.3.0]\n"
     ]
    }
   ],
   "source": [
    "import sys\n",
    "print(f'sys.version:\\n{sys.version}')"
   ]
  },
  {
   "cell_type": "code",
   "execution_count": 4,
   "metadata": {},
   "outputs": [
    {
     "name": "stdout",
     "output_type": "stream",
     "text": [
      "/home/pi/jupyter/pi09/.venv/lib/python3.7/site-packages\n",
      "/home/pi/jupyter/pi09/.venv/local/lib/python3.7/dist-packages\n",
      "/home/pi/jupyter/pi09/.venv/lib/python3/dist-packages\n",
      "/home/pi/jupyter/pi09/.venv/lib/python3.7/dist-packages\n"
     ]
    }
   ],
   "source": [
    "import site\n",
    "for p in site.getsitepackages():\n",
    "    print(p)"
   ]
  },
  {
   "cell_type": "code",
   "execution_count": null,
   "metadata": {},
   "outputs": [],
   "source": []
  }
 ],
 "metadata": {
  "kernelspec": {
   "display_name": "Python 3",
   "language": "python",
   "name": "python3"
  },
  "language_info": {
   "codemirror_mode": {
    "name": "ipython",
    "version": 3
   },
   "file_extension": ".py",
   "mimetype": "text/x-python",
   "name": "python",
   "nbconvert_exporter": "python",
   "pygments_lexer": "ipython3",
   "version": "3.7.3"
  }
 },
 "nbformat": 4,
 "nbformat_minor": 2
}
