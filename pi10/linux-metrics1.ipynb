{
 "cells": [
  {
   "cell_type": "markdown",
   "metadata": {},
   "source": [
    "Only need to do this to import the linux-metrics module\n",
    "Note that this is the best way to install a module from inside a notebook \n",
    "\n",
    "```python\n",
    "import sys\n",
    "!{sys.executable} -m pip install linux-metrics\n",
    "```\n",
    "\n",
    "See https://jakevdp.github.io/blog/2017/12/05/installing-python-packages-from-jupyter/"
   ]
  },
  {
   "cell_type": "code",
   "execution_count": 26,
   "metadata": {},
   "outputs": [],
   "source": [
    "import linux_metrics as lm"
   ]
  },
  {
   "cell_type": "code",
   "execution_count": 27,
   "metadata": {},
   "outputs": [
    {
     "name": "stdout",
     "output_type": "stream",
     "text": [
      "procs running: 2\n",
      "cpu utilization: 0.76%\n",
      "disk busy: 0.0%\n",
      "disk reads: 6900\n",
      "disk writes: 3503\n",
      "mem used: 240451584\n",
      "mem total: 917016576\n",
      "net bits received: 0\n",
      "net bits sent: 0\n"
     ]
    }
   ],
   "source": [
    "# cpu\n",
    "print('procs running: %d' % lm.cpu_stat.procs_running())\n",
    "cpu_pcts = lm.cpu_stat.cpu_percents(sample_duration=1)\n",
    "print('cpu utilization: %.2f%%' % (100 - cpu_pcts['idle']))\n",
    "\n",
    "# disk\n",
    "print('disk busy: %s%%' % lm.disk_stat.disk_busy('mmcblk0', sample_duration=1))\n",
    "r, w = lm.disk_stat.disk_reads_writes('mmcblk0')\n",
    "print('disk reads: %s' % r)\n",
    "print('disk writes: %s' % w)\n",
    "\n",
    "# memory\n",
    "used, total, _, _, _, _ = lm.mem_stat.mem_stats()\n",
    "print('mem used: %s' % used)\n",
    "print('mem total: %s' % total)\n",
    "\n",
    "# network\n",
    "rx_bits, tx_bits = lm.net_stat.rx_tx_bits('eth0')\n",
    "print('net bits received: %s' % rx_bits)\n",
    "print('net bits sent: %s' % tx_bits)\n",
    "\n"
   ]
  },
  {
   "cell_type": "code",
   "execution_count": null,
   "metadata": {},
   "outputs": [],
   "source": []
  }
 ],
 "metadata": {
  "kernelspec": {
   "display_name": "Python 3",
   "language": "python",
   "name": "python3"
  },
  "language_info": {
   "codemirror_mode": {
    "name": "ipython",
    "version": 3
   },
   "file_extension": ".py",
   "mimetype": "text/x-python",
   "name": "python",
   "nbconvert_exporter": "python",
   "pygments_lexer": "ipython3",
   "version": "3.5.3"
  }
 },
 "nbformat": 4,
 "nbformat_minor": 2
}
