{
 "cells": [
  {
   "cell_type": "code",
   "execution_count": 1,
   "metadata": {},
   "outputs": [],
   "source": [
    "import posix\n",
    "from fcntl import ioctl\n",
    "import time"
   ]
  },
  {
   "cell_type": "code",
   "execution_count": 2,
   "metadata": {},
   "outputs": [],
   "source": [
    "class AM2320:\n",
    "    I2C_ADDR = 0x5c\n",
    "    I2C_SLAVE = 0x0703\n",
    "\n",
    "    def __init__(self, i2cbus=1):\n",
    "        self._i2cbus = i2cbus\n",
    "\n",
    "    @staticmethod\n",
    "    def _calc_crc16(data):\n",
    "        crc = 0xFFFF\n",
    "        for x in data:\n",
    "            crc = crc ^ x\n",
    "            for bit in range(0, 8):\n",
    "                if (crc & 0x0001) == 0x0001:\n",
    "                    crc >>= 1\n",
    "                    crc ^= 0xA001\n",
    "                else:\n",
    "                    crc >>= 1\n",
    "        return crc\n",
    "\n",
    "    @staticmethod\n",
    "    def _combine_bytes(msb, lsb):\n",
    "        return msb << 8 | lsb\n",
    "\n",
    "    def readSensor(self):\n",
    "        fd = posix.open(\"/dev/i2c-%d\" % self._i2cbus, posix.O_RDWR)\n",
    "        ioctl(fd, self.I2C_SLAVE, self.I2C_ADDR)\n",
    "\n",
    "        # wake AM2320 up, goes to sleep to not warm up and affect the humidity sensor\n",
    "        # This write will fail as AM2320 won't ACK this write\n",
    "        try:\n",
    "            posix.write(fd, b'\\0x00')\n",
    "        except:\n",
    "            pass\n",
    "        time.sleep(0.001)  # Wait at least 0.8ms, at most 3ms\n",
    "        # write at addr 0x03, start reg = 0x00, num regs = 0x04 */\n",
    "        posix.write(fd, b'\\x03\\x00\\x04')\n",
    "        time.sleep(0.0016)  # Wait at least 1.5ms for result\n",
    "        # Read out 8 bytes of result data\n",
    "        # Byte 0: Should be Modbus function code 0x03\n",
    "        # Byte 1: Should be number of registers to read (0x04)\n",
    "        # Byte 2: Humidity msb\n",
    "        # Byte 3: Humidity lsb\n",
    "        # Byte 4: Temperature msb\n",
    "        # Byte 5: Temperature lsb\n",
    "        # Byte 6: CRC lsb byte\n",
    "        # Byte 7: CRC msb byte\n",
    "        data = bytearray(posix.read(fd, 8))\n",
    "        # Check data[0] and data[1]\n",
    "        if data[0] != 0x03 or data[1] != 0x04:\n",
    "            raise Exception(\"First two read bytes are a mismatch\")\n",
    "\n",
    "        # CRC check\n",
    "        if self._calc_crc16(data[0:6]) != self._combine_bytes(data[7], data[6]):\n",
    "            raise Exception(\"CRC failed\")\n",
    "        # Temperature resolution is 16Bit,\n",
    "        # temperature highest bit (Bit15) is equal to 1 indicates a\n",
    "        # negative temperature, the temperature highest bit (Bit15)\n",
    "        # is equal to 0 indicates a positive temperature;\n",
    "        # temperature in addition to the most significant bit (Bit14 ~ Bit0)\n",
    "        # indicates the temperature sensor string value.\n",
    "        # Temperature sensor value is a string of 10 times the\n",
    "        # actual temperature value.\n",
    "        temp = self._combine_bytes(data[4], data[5])\n",
    "        if temp & 0x8000:\n",
    "            temp = -(temp & 0x7FFF)\n",
    "        temp /= 10.0\n",
    "        humi = self._combine_bytes(data[2], data[3]) / 10.0\n",
    "        return (temp, humi)"
   ]
  },
  {
   "cell_type": "code",
   "execution_count": 3,
   "metadata": {},
   "outputs": [
    {
     "name": "stdout",
     "output_type": "stream",
     "text": [
      "13.1 28.0\n"
     ]
    }
   ],
   "source": [
    "am2320 = AM2320(1)\n",
    "(t, h) = am2320.readSensor()\n",
    "print(t, h)"
   ]
  },
  {
   "cell_type": "code",
   "execution_count": null,
   "metadata": {},
   "outputs": [],
   "source": []
  },
  {
   "cell_type": "code",
   "execution_count": null,
   "metadata": {},
   "outputs": [],
   "source": []
  }
 ],
 "metadata": {
  "kernelspec": {
   "display_name": "Python 3",
   "language": "python",
   "name": "python3"
  },
  "language_info": {
   "codemirror_mode": {
    "name": "ipython",
    "version": 3
   },
   "file_extension": ".py",
   "mimetype": "text/x-python",
   "name": "python",
   "nbconvert_exporter": "python",
   "pygments_lexer": "ipython3",
   "version": "3.5.3"
  }
 },
 "nbformat": 4,
 "nbformat_minor": 2
}
