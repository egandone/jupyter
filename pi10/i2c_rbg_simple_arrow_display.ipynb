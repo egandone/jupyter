{
 "cells": [
  {
   "cell_type": "code",
   "execution_count": 1,
   "metadata": {},
   "outputs": [],
   "source": [
    "import board\n",
    "import busio\n",
    "import adafruit_character_lcd.character_lcd_rgb_i2c as character_lcd"
   ]
  },
  {
   "cell_type": "code",
   "execution_count": 2,
   "metadata": {},
   "outputs": [],
   "source": [
    "import sys\n",
    "version_string = sys.version.split()[0]"
   ]
  },
  {
   "cell_type": "code",
   "execution_count": 3,
   "metadata": {},
   "outputs": [],
   "source": [
    "# Modify this if you have a different sized Character LCD\n",
    "lcd_columns = 16\n",
    "lcd_rows = 2\n",
    "\n",
    "# Initialise I2C bus.\n",
    "i2c = busio.I2C(board.SCL, board.SDA)\n",
    "\n",
    "# Initialise the LCD class\n",
    "lcd = character_lcd.Character_LCD_RGB_I2C(i2c, lcd_columns, lcd_rows)"
   ]
  },
  {
   "cell_type": "code",
   "execution_count": 4,
   "metadata": {},
   "outputs": [],
   "source": [
    "lcd.clear()\n",
    "lcd.color = [100, 100, 100]\n",
    "lcd.message = 'Python v{}\\nPress arrows'.format(version_string)"
   ]
  },
  {
   "cell_type": "code",
   "execution_count": 5,
   "metadata": {},
   "outputs": [],
   "source": [
    "# Simple loopl to print out pushed button until \n",
    "# select is pushed\n",
    "_quit = False\n",
    "while not _quit:\n",
    "    _message = None\n",
    "    if lcd.down_button:\n",
    "        _message = \"Down!\"\n",
    "    if lcd.up_button:\n",
    "        _message = \"Up!\"\n",
    "    if lcd.left_button:\n",
    "        _message = \"Left!\"\n",
    "    if lcd.right_button:\n",
    "        _message = \"Right!\"\n",
    "    if lcd.select_button:\n",
    "        _message = \"Done\"\n",
    "        _quit = True\n",
    "    if _message:\n",
    "        lcd.clear()\n",
    "        lcd.message = _message       "
   ]
  },
  {
   "cell_type": "code",
   "execution_count": null,
   "metadata": {},
   "outputs": [],
   "source": []
  }
 ],
 "metadata": {
  "kernelspec": {
   "display_name": "Python 3",
   "language": "python",
   "name": "python3"
  },
  "language_info": {
   "codemirror_mode": {
    "name": "ipython",
    "version": 3
   },
   "file_extension": ".py",
   "mimetype": "text/x-python",
   "name": "python",
   "nbconvert_exporter": "python",
   "pygments_lexer": "ipython3",
   "version": "3.5.3"
  }
 },
 "nbformat": 4,
 "nbformat_minor": 2
}
