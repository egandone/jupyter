{
 "cells": [
  {
   "cell_type": "code",
   "execution_count": 2,
   "metadata": {},
   "outputs": [
    {
     "name": "stdout",
     "output_type": "stream",
     "text": [
      "2020-04-19T09:07:19-04:00\n",
      "\n",
      "CPython 3.5.3\n",
      "IPython 7.7.0\n",
      "\n",
      "compiler   : GCC 6.3.0 20170516\n",
      "system     : Linux\n",
      "release    : 4.19.66-v7+\n",
      "machine    : armv7l\n",
      "processor  : \n",
      "CPU cores  : 4\n",
      "interpreter: 32bit\n"
     ]
    }
   ],
   "source": [
    "%load_ext watermark\n",
    "%watermark"
   ]
  },
  {
   "cell_type": "code",
   "execution_count": 4,
   "metadata": {},
   "outputs": [
    {
     "name": "stdout",
     "output_type": "stream",
     "text": [
      "node      = pi10\n",
      "system    = Linux\n",
      "processor = \n",
      "release   = 4.19.66-v7+\n",
      "version   = #1253 SMP Thu Aug 15 11:49:46 BST 2019\n"
     ]
    }
   ],
   "source": [
    "import platform\n",
    "print(\"\"\"node      = {}\n",
    "system    = {}\n",
    "processor = {}\n",
    "release   = {}\n",
    "version   = {}\"\"\".format(platform.uname().node, \n",
    "                                                 platform.uname().system, \n",
    "                                                 platform.uname().processor,\n",
    "                                                 platform.uname().release,\n",
    "                                                 platform.uname().version))"
   ]
  },
  {
   "cell_type": "code",
   "execution_count": 5,
   "metadata": {},
   "outputs": [
    {
     "name": "stdout",
     "output_type": "stream",
     "text": [
      "sys.version:\n",
      "3.5.3 (default, Sep 27 2018, 17:25:39) \n",
      "[GCC 6.3.0 20170516]\n"
     ]
    }
   ],
   "source": [
    "import sys\n",
    "print('sys.version:\\n{}'.format(sys.version))"
   ]
  },
  {
   "cell_type": "code",
   "execution_count": 6,
   "metadata": {},
   "outputs": [
    {
     "name": "stdout",
     "output_type": "stream",
     "text": [
      "/home/pi/jupyter/pi10/.venv/lib/python3.5/site-packages\n",
      "/home/pi/jupyter/pi10/.venv/local/lib/python3.5/dist-packages\n",
      "/home/pi/jupyter/pi10/.venv/lib/python3/dist-packages\n",
      "/home/pi/jupyter/pi10/.venv/lib/python3.5/dist-packages\n"
     ]
    }
   ],
   "source": [
    "import site\n",
    "for p in site.getsitepackages():\n",
    "    print(p)"
   ]
  },
  {
   "cell_type": "code",
   "execution_count": null,
   "metadata": {},
   "outputs": [],
   "source": []
  }
 ],
 "metadata": {
  "kernelspec": {
   "display_name": "Python 3",
   "language": "python",
   "name": "python3"
  }
 },
 "nbformat": 4,
 "nbformat_minor": 2
}
