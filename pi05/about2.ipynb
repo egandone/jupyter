{
 "cells": [
  {
   "cell_type": "code",
   "execution_count": 1,
   "metadata": {},
   "outputs": [
    {
     "name": "stdout",
     "output_type": "stream",
     "text": [
      "2020-05-18T10:17:03-04:00\n",
      "\n",
      "CPython 3.8.2\n",
      "IPython 7.14.0\n",
      "\n",
      "compiler   : GCC 8.3.0\n",
      "system     : Linux\n",
      "release    : 4.19.97-v7+\n",
      "machine    : armv7l\n",
      "processor  : \n",
      "CPU cores  : 4\n",
      "interpreter: 32bit\n"
     ]
    }
   ],
   "source": [
    "%load_ext watermark\n",
    "%watermark"
   ]
  },
  {
   "cell_type": "code",
   "execution_count": 2,
   "metadata": {},
   "outputs": [
    {
     "name": "stdout",
     "output_type": "stream",
     "text": [
      "sys.executable = /home/pi/jupyter/pi05/.venv/bin/python\n",
      "sys.version:\n",
      "3.8.2 (default, Apr 14 2020, 13:15:14) \n",
      "[GCC 8.3.0]\n"
     ]
    }
   ],
   "source": [
    "import sys\n",
    "print('sys.executable = {}'.format(sys.executable))\n",
    "print('sys.version:\\n{}'.format(sys.version))"
   ]
  },
  {
   "cell_type": "code",
   "execution_count": 3,
   "metadata": {},
   "outputs": [
    {
     "name": "stdout",
     "output_type": "stream",
     "text": [
      "/home/pi/jupyter/pi05/.venv/lib/python3.8/site-packages\n"
     ]
    }
   ],
   "source": [
    "import site\n",
    "for p in site.getsitepackages():\n",
    "    print(p)"
   ]
  },
  {
   "cell_type": "code",
   "execution_count": 4,
   "metadata": {},
   "outputs": [],
   "source": [
    "import linux_metrics as lm"
   ]
  },
  {
   "cell_type": "code",
   "execution_count": 5,
   "metadata": {},
   "outputs": [
    {
     "name": "stdout",
     "output_type": "stream",
     "text": [
      "procs running: 4\n",
      "cpu utilization: 34.16%\n",
      "disk busy: 0.0%\n",
      "disk reads: 36009\n",
      "disk writes: 33857\n",
      "mem used: 437374976\n",
      "mem total: 783970304\n",
      "net bits received: 0\n",
      "net bits sent: 0\n"
     ]
    }
   ],
   "source": [
    "# cpu\n",
    "print('procs running: %d' % lm.cpu_stat.procs_running())\n",
    "cpu_pcts = lm.cpu_stat.cpu_percents(sample_duration=1)\n",
    "print('cpu utilization: %.2f%%' % (100 - cpu_pcts['idle']))\n",
    "\n",
    "# disk\n",
    "print('disk busy: %s%%' % lm.disk_stat.disk_busy('mmcblk0', sample_duration=1))\n",
    "r, w = lm.disk_stat.disk_reads_writes('mmcblk0')\n",
    "print('disk reads: %s' % r)\n",
    "print('disk writes: %s' % w)\n",
    "\n",
    "# memory\n",
    "used, total, _, _, _, _ = lm.mem_stat.mem_stats()\n",
    "print('mem used: %s' % used)\n",
    "print('mem total: %s' % total)\n",
    "\n",
    "# network\n",
    "rx_bits, tx_bits = lm.net_stat.rx_tx_bits('eth0')\n",
    "print('net bits received: %s' % rx_bits)\n",
    "print('net bits sent: %s' % tx_bits)"
   ]
  },
  {
   "cell_type": "code",
   "execution_count": null,
   "metadata": {},
   "outputs": [],
   "source": []
  }
 ],
 "metadata": {
  "kernelspec": {
   "display_name": "Python 3",
   "language": "python",
   "name": "python3"
  },
  "language_info": {
   "codemirror_mode": {
    "name": "ipython",
    "version": 3
   },
   "file_extension": ".py",
   "mimetype": "text/x-python",
   "name": "python",
   "nbconvert_exporter": "python",
   "pygments_lexer": "ipython3",
   "version": "3.8.2"
  }
 },
 "nbformat": 4,
 "nbformat_minor": 2
}
