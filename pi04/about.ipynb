{
 "cells": [
  {
   "cell_type": "code",
   "execution_count": 1,
   "metadata": {},
   "outputs": [
    {
     "name": "stdout",
     "output_type": "stream",
     "text": [
      "2020-02-23T20:47:00-05:00\n",
      "\n",
      "CPython 3.8.1\n",
      "IPython 7.12.0\n",
      "\n",
      "compiler   : GCC 6.3.0 20170516\n",
      "system     : Linux\n",
      "release    : 4.9.35-v7+\n",
      "machine    : armv7l\n",
      "processor  : \n",
      "CPU cores  : 4\n",
      "interpreter: 32bit\n"
     ]
    }
   ],
   "source": [
    "%load_ext watermark\n",
    "%watermark"
   ]
  },
  {
   "cell_type": "code",
   "execution_count": 2,
   "metadata": {},
   "outputs": [
    {
     "name": "stdout",
     "output_type": "stream",
     "text": [
      "sys.executable = /home/pi/jupyter/.venv/bin/python\n",
      "sys.version:\n",
      "3.8.1 (default, Feb 16 2020, 09:05:52) \n",
      "[GCC 6.3.0 20170516]\n"
     ]
    }
   ],
   "source": [
    "import sys\n",
    "print('sys.executable = {}'.format(sys.executable))\n",
    "print('sys.version:\\n{}'.format(sys.version))\n"
   ]
  },
  {
   "cell_type": "code",
   "execution_count": 3,
   "metadata": {},
   "outputs": [
    {
     "name": "stdout",
     "output_type": "stream",
     "text": [
      "/home/pi/jupyter/.venv/lib/python3.8/site-packages\n"
     ]
    }
   ],
   "source": [
    "import site\n",
    "for p in site.getsitepackages():\n",
    "    print(p)"
   ]
  },
  {
   "cell_type": "code",
   "execution_count": 4,
   "metadata": {},
   "outputs": [],
   "source": [
    "import linux_metrics as lm"
   ]
  },
  {
   "cell_type": "code",
   "execution_count": 5,
   "metadata": {},
   "outputs": [
    {
     "name": "stdout",
     "output_type": "stream",
     "text": [
      "procs running: 3\n",
      "cpu utilization: 42.64%\n",
      "disk busy: 0.0%\n",
      "disk reads: 91911\n",
      "disk writes: 64274\n",
      "mem used: 359055360\n",
      "mem total: 768647168\n",
      "net bits received: 0\n",
      "net bits sent: 0\n"
     ]
    }
   ],
   "source": [
    "# cpu\n",
    "print('procs running: %d' % lm.cpu_stat.procs_running())\n",
    "cpu_pcts = lm.cpu_stat.cpu_percents(sample_duration=1)\n",
    "print('cpu utilization: %.2f%%' % (100 - cpu_pcts['idle']))\n",
    "\n",
    "# disk\n",
    "print('disk busy: %s%%' % lm.disk_stat.disk_busy('mmcblk0', sample_duration=1))\n",
    "r, w = lm.disk_stat.disk_reads_writes('mmcblk0')\n",
    "print('disk reads: %s' % r)\n",
    "print('disk writes: %s' % w)\n",
    "\n",
    "# memory\n",
    "used, total, _, _, _, _ = lm.mem_stat.mem_stats()\n",
    "print('mem used: %s' % used)\n",
    "print('mem total: %s' % total)\n",
    "\n",
    "# network\n",
    "rx_bits, tx_bits = lm.net_stat.rx_tx_bits('eth0')\n",
    "print('net bits received: %s' % rx_bits)\n",
    "print('net bits sent: %s' % tx_bits)\n",
    "\n"
   ]
  },
  {
   "cell_type": "code",
   "execution_count": 6,
   "metadata": {},
   "outputs": [
    {
     "name": "stdout",
     "output_type": "stream",
     "text": [
      "\n",
      "Please wait a moment while I gather a list of all available modules...\n",
      "\n"
     ]
    },
    {
     "name": "stderr",
     "output_type": "stream",
     "text": [
      "/home/pi/jupyter/.venv/lib/python3.8/site-packages/IPython/kernel/__init__.py:12: ShimWarning: The `IPython.kernel` package has been deprecated since IPython 4.0.You should import from ipykernel or jupyter_client instead.\n",
      "  warn(\"The `IPython.kernel` package has been deprecated since IPython 4.0.\"\n",
      "/usr/local/lib/python3.8/pkgutil.py:107: VisibleDeprecationWarning: zmq.eventloop.minitornado is deprecated in pyzmq 14.0 and will be removed.\n",
      "    Install tornado itself to use zmq with the tornado IOLoop.\n",
      "    \n",
      "  yield from walk_packages(path, info.name+'.', onerror)\n"
     ]
    },
    {
     "name": "stdout",
     "output_type": "stream",
     "text": [
      "Cython              asynchat            ipykernel           requests_toolbelt\n",
      "IPython             asyncio             ipykernel_launcher  resource\n",
      "__future__          asyncore            ipython_genutils    rlcompleter\n",
      "_abc                atexit              ipywidgets          rmagic\n",
      "_ast                attr                isodate             runpy\n",
      "_asyncio            audioop             itertools           sched\n",
      "_bisect             autoreload          jedi                secrets\n",
      "_blake2             backcall            jinja2              select\n",
      "_bootlocale         base64              json                selectors\n",
      "_bz2                bdb                 jsonschema          send2trash\n",
      "_codecs             binascii            jupyter             setuptools\n",
      "_codecs_cn          binhex              jupyter_client      shelve\n",
      "_codecs_hk          bisect              jupyter_console     shlex\n",
      "_codecs_iso2022     bleach              jupyter_core        shutil\n",
      "_codecs_jp          builtins            keyword             signal\n",
      "_codecs_kr          bz2                 kiwisolver          site\n",
      "_codecs_tw          cProfile            lib2to3             six\n",
      "_collections        cached_property     linecache           smtpd\n",
      "_collections_abc    calendar            linux_metrics       smtplib\n",
      "_compat_pickle      certifi             locale              sndhdr\n",
      "_compression        cgi                 logging             socket\n",
      "_contextvars        cgitb               lxml                socketserver\n",
      "_crypt              chardet             lzma                spwd\n",
      "_csv                chunk               mailbox             sqlite3\n",
      "_ctypes             cmath               mailcap             sre_compile\n",
      "_ctypes_test        cmd                 markupsafe          sre_constants\n",
      "_curses             code                marshal             sre_parse\n",
      "_curses_panel       codecs              math                ssl\n",
      "_datetime           codeop              matplotlib          stat\n",
      "_dbm                collections         mimetypes           statistics\n",
      "_decimal            colorclass          mistune             storemagic\n",
      "_dummy_thread       colorsys            mmap                string\n",
      "_elementtree        compileall          modulefinder        stringprep\n",
      "_functools          concurrent          multiprocessing     struct\n",
      "_gdbm               configparser        nbconvert           subprocess\n",
      "_hashlib            contextlib          nbformat            sunau\n",
      "_heapq              contextvars         netrc               symbol\n",
      "_imp                copy                nis                 sympyprinting\n",
      "_io                 copyreg             nntplib             symtable\n",
      "_json               crypt               notebook            sys\n",
      "_locale             csv                 ntpath              sysconfig\n",
      "_lsprof             ctypes              nturl2path          syslog\n",
      "_lzma               curses              numbers             tabnanny\n",
      "_markupbase         cycler              numpy               tarfile\n",
      "_md5                cython              opcode              telnetlib\n",
      "_multibytecodec     cythonmagic         operator            tempfile\n",
      "_multiprocessing    dataclasses         optparse            terminado\n",
      "_opcode             datetime            os                  terminaltables\n",
      "_operator           dateutil            ossaudiodev         termios\n",
      "_osx_support        dbm                 packaging           test\n",
      "_pickle             decimal             pandas              testpath\n",
      "_posixshmem         decorator           pandocfilters       tests\n",
      "_posixsubprocess    defusedxml          parser              textwrap\n",
      "_py_abc             difflib             parso               this\n",
      "_pydecimal          dis                 pathlib             threading\n",
      "_pyio               distutils           pdb                 time\n",
      "_pyrsistent_version docopt              pexpect             timeit\n",
      "_queue              doctest             pickle              tkinter\n",
      "_random             dummy_threading     pickleshare         token\n",
      "_sha1               easy_install        pickletools         tokenize\n",
      "_sha256             email               pip                 tornado\n",
      "_sha3               encodings           pip_upgrader        trace\n",
      "_sha512             ensurepip           pipes               traceback\n",
      "_signal             entrypoints         pkg_resources       tracemalloc\n",
      "_sitebuiltins       enum                pkgutil             traitlets\n",
      "_socket             errno               platform            tty\n",
      "_sqlite3            faulthandler        plistlib            turtle\n",
      "_sre                fcntl               poplib              turtledemo\n",
      "_ssl                filecmp             posix               types\n",
      "_stat               fileinput           posixpath           typing\n",
      "_statistics         fnmatch             pprint              unicodedata\n",
      "_string             formatter           profile             unittest\n",
      "_strptime           fractions           prometheus_client   urllib\n",
      "_struct             ftplib              prompt_toolkit      urllib3\n",
      "_symtable           functools           pstats              uu\n",
      "_sysconfigdata__linux_arm-linux-gnueabihf gc                  pty                 uuid\n",
      "_testbuffer         genericpath         ptyprocess          venv\n",
      "_testcapi           getopt              pvectorc            warnings\n",
      "_testimportmultiple getpass             pwd                 watermark\n",
      "_testinternalcapi   gettext             py_compile          wave\n",
      "_testmultiphase     glob                pyclbr              wcwidth\n",
      "_thread             grp                 pydoc               weakref\n",
      "_threading_local    gzip                pydoc_data          webbrowser\n",
      "_tkinter            hashlib             pyexpat             webencodings\n",
      "_tracemalloc        heapq               pygments            widgetsnbextension\n",
      "_uuid               hmac                pylab               wsgiref\n",
      "_warnings           html                pyparsing           xdrlib\n",
      "_weakref            http                pyrsistent          xml\n",
      "_weakrefset         idlelib             pytz                xmlrpc\n",
      "_xxsubinterpreters  idna                pyximport           xxlimited\n",
      "_xxtestfuzz         imaplib             qtconsole           xxsubtype\n",
      "abc                 imghdr              queue               zeep\n",
      "aifc                imp                 quopri              zipapp\n",
      "antigravity         importlib           random              zipfile\n",
      "appdirs             importlib_metadata  re                  zipimport\n",
      "argparse            inspect             readline            zipp\n",
      "array               io                  reprlib             zlib\n",
      "ast                 ipaddress           requests            zmq\n",
      "\n",
      "Enter any module name to get more help.  Or, type \"modules spam\" to search\n",
      "for modules whose name or summary contain the string \"spam\".\n",
      "\n"
     ]
    }
   ],
   "source": [
    "help('modules')"
   ]
  },
  {
   "cell_type": "code",
   "execution_count": null,
   "metadata": {},
   "outputs": [],
   "source": []
  }
 ],
 "metadata": {
  "kernelspec": {
   "display_name": "Python 3",
   "language": "python",
   "name": "python3"
  },
  "language_info": {
   "codemirror_mode": {
    "name": "ipython",
    "version": 3
   },
   "file_extension": ".py",
   "mimetype": "text/x-python",
   "name": "python",
   "nbconvert_exporter": "python",
   "pygments_lexer": "ipython3",
   "version": "3.8.1"
  }
 },
 "nbformat": 4,
 "nbformat_minor": 2
}
