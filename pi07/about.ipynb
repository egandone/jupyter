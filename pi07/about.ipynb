{
 "cells": [
  {
   "cell_type": "code",
   "execution_count": 1,
   "metadata": {},
   "outputs": [
    {
     "name": "stdout",
     "output_type": "stream",
     "text": [
      "2020-02-25T20:58:20-05:00\n",
      "\n",
      "CPython 3.8.1\n",
      "IPython 7.12.0\n",
      "\n",
      "compiler   : GCC 6.3.0 20170516\n",
      "system     : Linux\n",
      "release    : 4.9.35-v7+\n",
      "machine    : armv7l\n",
      "processor  : \n",
      "CPU cores  : 4\n",
      "interpreter: 32bit\n"
     ]
    }
   ],
   "source": [
    "%load_ext watermark\n",
    "%watermark"
   ]
  },
  {
   "cell_type": "code",
   "execution_count": 2,
   "metadata": {},
   "outputs": [
    {
     "name": "stdout",
     "output_type": "stream",
     "text": [
      "node      = pi07\n",
      "system    = Linux\n",
      "processor = \n",
      "release   = 4.9.35-v7+\n",
      "version   = #1014 SMP Fri Jun 30 14:47:43 BST 2017\n"
     ]
    }
   ],
   "source": [
    "import platform\n",
    "print(f\"\"\"node      = {platform.uname().node}\n",
    "system    = {platform.uname().system}\n",
    "processor = {platform.uname().processor}\n",
    "release   = {platform.uname().release}\n",
    "version   = {platform.uname().version}\"\"\")"
   ]
  },
  {
   "cell_type": "code",
   "execution_count": 3,
   "metadata": {},
   "outputs": [
    {
     "name": "stdout",
     "output_type": "stream",
     "text": [
      "sys.version:\n",
      "3.8.1 (default, Feb 16 2020, 15:40:33) \n",
      "[GCC 6.3.0 20170516]\n"
     ]
    }
   ],
   "source": [
    "import sys\n",
    "print(f'sys.version:\\n{sys.version}')"
   ]
  },
  {
   "cell_type": "code",
   "execution_count": 4,
   "metadata": {},
   "outputs": [
    {
     "name": "stdout",
     "output_type": "stream",
     "text": [
      "/home/pi/jupyter/.venv/lib/python3.8/site-packages\n"
     ]
    }
   ],
   "source": [
    "import site\n",
    "for p in site.getsitepackages():\n",
    "    print(p)"
   ]
  }
 ],
 "metadata": {
  "kernelspec": {
   "display_name": "Python 3",
   "language": "python",
   "name": "python3"
  },
  "language_info": {
   "codemirror_mode": {
    "name": "ipython",
    "version": 3
   },
   "file_extension": ".py",
   "mimetype": "text/x-python",
   "name": "python",
   "nbconvert_exporter": "python",
   "pygments_lexer": "ipython3",
   "version": "3.8.1"
  }
 },
 "nbformat": 4,
 "nbformat_minor": 2
}
