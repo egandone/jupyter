{
 "cells": [
  {
   "cell_type": "code",
   "execution_count": 1,
   "metadata": {},
   "outputs": [
    {
     "name": "stdout",
     "output_type": "stream",
     "text": [
      "2020-02-25T20:39:42-05:00\n",
      "\n",
      "CPython 3.8.1\n",
      "IPython 7.12.0\n",
      "\n",
      "compiler   : GCC 8.3.1 20190311 (Red Hat 8.3.1-3)\n",
      "system     : Linux\n",
      "release    : 4.15.0-23-generic\n",
      "machine    : x86_64\n",
      "processor  : x86_64\n",
      "CPU cores  : 8\n",
      "interpreter: 64bit\n"
     ]
    }
   ],
   "source": [
    "%load_ext watermark\n",
    "%watermark"
   ]
  },
  {
   "cell_type": "code",
   "execution_count": 2,
   "metadata": {},
   "outputs": [
    {
     "name": "stdout",
     "output_type": "stream",
     "text": [
      "node      = centos1\n",
      "system    = Linux\n",
      "processor = x86_64\n",
      "release   = 4.15.0-23-generic\n",
      "version   = #25-Ubuntu SMP Wed May 23 18:02:16 UTC 2018\n"
     ]
    }
   ],
   "source": [
    "import platform\n",
    "print(f\"\"\"node      = {platform.uname().node}\n",
    "system    = {platform.uname().system}\n",
    "processor = {platform.uname().processor}\n",
    "release   = {platform.uname().release}\n",
    "version   = {platform.uname().version}\"\"\")"
   ]
  },
  {
   "cell_type": "code",
   "execution_count": 3,
   "metadata": {},
   "outputs": [
    {
     "name": "stdout",
     "output_type": "stream",
     "text": [
      "sys.version:\n",
      "3.8.1 (default, Feb 16 2020, 08:20:53) \n",
      "[GCC 8.3.1 20190311 (Red Hat 8.3.1-3)]\n"
     ]
    }
   ],
   "source": [
    "import sys\n",
    "print(f'sys.version:\\n{sys.version}')"
   ]
  },
  {
   "cell_type": "code",
   "execution_count": 4,
   "metadata": {},
   "outputs": [
    {
     "name": "stdout",
     "output_type": "stream",
     "text": [
      "/home/app1/jupyter/.venv/lib/python3.8/site-packages\n"
     ]
    }
   ],
   "source": [
    "import site\n",
    "for p in site.getsitepackages():\n",
    "    print(p)"
   ]
  }
 ],
 "metadata": {
  "kernelspec": {
   "display_name": "Python 3",
   "language": "python",
   "name": "python3"
  },
  "language_info": {
   "codemirror_mode": {
    "name": "ipython",
    "version": 3
   },
   "file_extension": ".py",
   "mimetype": "text/x-python",
   "name": "python",
   "nbconvert_exporter": "python",
   "pygments_lexer": "ipython3",
   "version": "3.8.1"
  }
 },
 "nbformat": 4,
 "nbformat_minor": 2
}
