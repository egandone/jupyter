{
 "cells": [
  {
   "cell_type": "code",
   "execution_count": 1,
   "metadata": {},
   "outputs": [
    {
     "name": "stdout",
     "output_type": "stream",
     "text": [
      "2020-10-03T09:33:08-04:00\n",
      "\n",
      "CPython 3.8.3rc1\n",
      "IPython 7.14.0\n",
      "\n",
      "compiler   : GCC 8.3.0\n",
      "system     : Linux\n",
      "release    : 4.19.88-v8+\n",
      "machine    : aarch64\n",
      "processor  : \n",
      "CPU cores  : 4\n",
      "interpreter: 32bit\n"
     ]
    }
   ],
   "source": [
    "%load_ext watermark\n",
    "%watermark"
   ]
  },
  {
   "cell_type": "code",
   "execution_count": 2,
   "metadata": {},
   "outputs": [
    {
     "name": "stdout",
     "output_type": "stream",
     "text": [
      "node      = pugraspi1\n",
      "system    = Linux\n",
      "processor = \n",
      "release   = 4.19.88-v8+\n",
      "version   = #1 SMP PREEMPT Tue Dec 10 15:43:25 UTC 2019\n"
     ]
    }
   ],
   "source": [
    "import platform\n",
    "print(f\"\"\"node      = {platform.uname().node}\n",
    "system    = {platform.uname().system}\n",
    "processor = {platform.uname().processor}\n",
    "release   = {platform.uname().release}\n",
    "version   = {platform.uname().version}\"\"\")"
   ]
  },
  {
   "cell_type": "code",
   "execution_count": 3,
   "metadata": {},
   "outputs": [
    {
     "name": "stdout",
     "output_type": "stream",
     "text": [
      "sys.version:\n",
      "3.8.3rc1 (default, May  9 2020, 23:22:42) \n",
      "[GCC 8.3.0]\n"
     ]
    }
   ],
   "source": [
    "import sys\n",
    "print(f'sys.version:\\n{sys.version}')"
   ]
  },
  {
   "cell_type": "code",
   "execution_count": 4,
   "metadata": {},
   "outputs": [
    {
     "name": "stdout",
     "output_type": "stream",
     "text": [
      "/home/pi/jupyter/pugraspi1/.venv38/lib/python3.8/site-packages\n"
     ]
    }
   ],
   "source": [
    "import site\n",
    "for p in site.getsitepackages():\n",
    "    print(p)"
   ]
  },
  {
   "cell_type": "code",
   "execution_count": 5,
   "metadata": {},
   "outputs": [],
   "source": [
    "import linux_metrics as lm"
   ]
  },
  {
   "cell_type": "code",
   "execution_count": 6,
   "metadata": {},
   "outputs": [
    {
     "name": "stdout",
     "output_type": "stream",
     "text": [
      "procs running: 4\n",
      "cpu utilization: 49.49%\n",
      "disk busy: 7.599999999999994%\n",
      "disk reads: 929826\n",
      "disk writes: 42255032\n",
      "mem used: 583651328\n",
      "mem total: 3992416256\n",
      "net bits received: 834704\n",
      "net bits sent: 52076888\n"
     ]
    }
   ],
   "source": [
    "# cpu\n",
    "print('procs running: %d' % lm.cpu_stat.procs_running())\n",
    "cpu_pcts = lm.cpu_stat.cpu_percents(sample_duration=1)\n",
    "print('cpu utilization: %.2f%%' % (100 - cpu_pcts['idle']))\n",
    "\n",
    "# disk - not sure about what to use for Anlet.  antlets/centos1 is \n",
    "#        what's mounted to / - not sure what the device is\n",
    "print('disk busy: %s%%' % lm.disk_stat.disk_busy('mmcblk0', sample_duration=1))\n",
    "r, w = lm.disk_stat.disk_reads_writes('mmcblk0')\n",
    "print('disk reads: %s' % r)\n",
    "print('disk writes: %s' % w)\n",
    "\n",
    "# memory\n",
    "used, total, _, _, _, _ = lm.mem_stat.mem_stats()\n",
    "print('mem used: %s' % used)\n",
    "print('mem total: %s' % total)\n",
    "\n",
    "# network\n",
    "rx_bits, tx_bits = lm.net_stat.rx_tx_bits('eth0')\n",
    "print('net bits received: %s' % rx_bits)\n",
    "print('net bits sent: %s' % tx_bits)"
   ]
  },
  {
   "cell_type": "code",
   "execution_count": 7,
   "metadata": {},
   "outputs": [
    {
     "data": {
      "text/plain": [
       "'4.1.1'"
      ]
     },
     "execution_count": 7,
     "metadata": {},
     "output_type": "execute_result"
    }
   ],
   "source": [
    "import cv2\n",
    "cv2.__version__"
   ]
  },
  {
   "cell_type": "code",
   "execution_count": null,
   "metadata": {},
   "outputs": [],
   "source": []
  }
 ],
 "metadata": {
  "kernelspec": {
   "display_name": "Python 3",
   "language": "python",
   "name": "python3"
  },
  "language_info": {
   "codemirror_mode": {
    "name": "ipython",
    "version": 3
   },
   "file_extension": ".py",
   "mimetype": "text/x-python",
   "name": "python",
   "nbconvert_exporter": "python",
   "pygments_lexer": "ipython3",
   "version": "3.8.3rc1"
  }
 },
 "nbformat": 4,
 "nbformat_minor": 2
}
