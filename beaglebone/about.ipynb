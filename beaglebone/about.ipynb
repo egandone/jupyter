{
 "cells": [
  {
   "cell_type": "code",
   "execution_count": 1,
   "metadata": {},
   "outputs": [
    {
     "name": "stdout",
     "output_type": "stream",
     "text": [
      "Last updated: 2020-12-01T22:00:39.132178-05:00\n",
      "\n",
      "Python implementation: CPython\n",
      "Python version       : 3.8.1\n",
      "IPython version      : 7.19.0\n",
      "\n",
      "Compiler    : GCC 5.4.0 20160609\n",
      "OS          : Linux\n",
      "Release     : 4.9.54-ti-r68\n",
      "Machine     : armv7l\n",
      "Processor   : armv7l\n",
      "CPU cores   : 1\n",
      "Architecture: 32bit\n",
      "\n"
     ]
    }
   ],
   "source": [
    "%load_ext watermark\n",
    "%watermark"
   ]
  },
  {
   "cell_type": "code",
   "execution_count": 2,
   "metadata": {},
   "outputs": [
    {
     "name": "stdout",
     "output_type": "stream",
     "text": [
      "node      = beaglebone\n",
      "system    = Linux\n",
      "processor = armv7l\n",
      "release   = 4.9.54-ti-r68\n",
      "version   = #1 SMP PREEMPT Tue Oct 10 10:05:30 UTC 2017\n"
     ]
    }
   ],
   "source": [
    "import platform\n",
    "print(f\"\"\"node      = {platform.uname().node}\n",
    "system    = {platform.uname().system}\n",
    "processor = {platform.uname().processor}\n",
    "release   = {platform.uname().release}\n",
    "version   = {platform.uname().version}\"\"\")"
   ]
  },
  {
   "cell_type": "code",
   "execution_count": 3,
   "metadata": {},
   "outputs": [
    {
     "name": "stdout",
     "output_type": "stream",
     "text": [
      "sys.version:\n",
      "3.8.1 (default, Feb 16 2020, 07:48:05) \n",
      "[GCC 5.4.0 20160609]\n"
     ]
    }
   ],
   "source": [
    "import sys\n",
    "print(f'sys.version:\\n{sys.version}')"
   ]
  },
  {
   "cell_type": "code",
   "execution_count": 4,
   "metadata": {},
   "outputs": [
    {
     "name": "stdout",
     "output_type": "stream",
     "text": [
      "/home/ubuntu/jupyter/.venv/lib/python3.8/site-packages\n"
     ]
    }
   ],
   "source": [
    "import site\n",
    "for p in site.getsitepackages():\n",
    "    print(p)"
   ]
  },
  {
   "cell_type": "code",
   "execution_count": 5,
   "metadata": {},
   "outputs": [],
   "source": [
    "import Adafruit_BBIO.GPIO as GPIO\n",
    "import Adafruit_BBIO.PWM as PWM"
   ]
  },
  {
   "cell_type": "code",
   "execution_count": 6,
   "metadata": {},
   "outputs": [],
   "source": [
    "GPIO.setup(\"P8_10\", GPIO.OUT)\n",
    "GPIO.output(\"P8_10\", GPIO.HIGH)\n",
    "GPIO.cleanup()"
   ]
  },
  {
   "cell_type": "code",
   "execution_count": null,
   "metadata": {},
   "outputs": [],
   "source": []
  }
 ],
 "metadata": {
  "kernelspec": {
   "display_name": "Python 3",
   "language": "python",
   "name": "python3"
  },
  "language_info": {
   "codemirror_mode": {
    "name": "ipython",
    "version": 3
   },
   "file_extension": ".py",
   "mimetype": "text/x-python",
   "name": "python",
   "nbconvert_exporter": "python",
   "pygments_lexer": "ipython3",
   "version": "3.8.1"
  }
 },
 "nbformat": 4,
 "nbformat_minor": 2
}
